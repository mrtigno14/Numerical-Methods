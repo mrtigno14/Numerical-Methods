{
  "nbformat": 4,
  "nbformat_minor": 0,
  "metadata": {
    "colab": {
      "name": "integral 2.ipynb",
      "provenance": [],
      "collapsed_sections": [],
      "authorship_tag": "ABX9TyN/EY3NeMk/wyYAgdWK+pg4",
      "include_colab_link": true
    },
    "kernelspec": {
      "name": "python3",
      "display_name": "Python 3"
    },
    "language_info": {
      "name": "python"
    }
  },
  "cells": [
    {
      "cell_type": "markdown",
      "metadata": {
        "id": "view-in-github",
        "colab_type": "text"
      },
      "source": [
        "<a href=\"https://colab.research.google.com/github/Mtigno14/Numerical-Methods-58011/blob/main/integral_2.ipynb\" target=\"_parent\"><img src=\"https://colab.research.google.com/assets/colab-badge.svg\" alt=\"Open In Colab\"/></a>"
      ]
    },
    {
      "cell_type": "code",
      "execution_count": 12,
      "metadata": {
        "colab": {
          "base_uri": "https://localhost:8080/"
        },
        "id": "HjtUkbFvmZff",
        "outputId": "944e7921-2c5f-47eb-ca6b-944ba849a03f"
      },
      "outputs": [
        {
          "output_type": "stream",
          "name": "stdout",
          "text": [
            "1.7028683036833565\n"
          ]
        }
      ],
      "source": [
        "from math import sin\n",
        "def f(x): return 0.2+25*x-200*x**2+675*x**3-900*x**4+400*x**5\n",
        "\n",
        "a = 0\n",
        "b = 0.8\n",
        "n = 999\n",
        "h = (b-a)/n #width of the trapezoid\n",
        "S = h* (f(a)+f(b)) ##beginning value of summation\n",
        "\n",
        "for i in np.arange(0, 0.2, 0.000019):\n",
        "\tS+=f(a+i*h)\n",
        " \n",
        "Integral = h*S\n",
        "print(Integral)"
      ]
    }
  ]
}