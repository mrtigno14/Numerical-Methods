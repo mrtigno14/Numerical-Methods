{
  "nbformat": 4,
  "nbformat_minor": 0,
  "metadata": {
    "colab": {
      "name": "Control and Loop Statements.ipynb",
      "provenance": [],
      "collapsed_sections": [],
      "authorship_tag": "ABX9TyOkohjxLGNwphFTo/qgOQRr",
      "include_colab_link": true
    },
    "kernelspec": {
      "name": "python3",
      "display_name": "Python 3"
    },
    "language_info": {
      "name": "python"
    }
  },
  "cells": [
    {
      "cell_type": "markdown",
      "metadata": {
        "id": "view-in-github",
        "colab_type": "text"
      },
      "source": [
        "<a href=\"https://colab.research.google.com/github/Mtigno14/Numerical-Methods-58011/blob/main/Control_and_Loop_Statements.ipynb\" target=\"_parent\"><img src=\"https://colab.research.google.com/assets/colab-badge.svg\" alt=\"Open In Colab\"/></a>"
      ]
    },
    {
      "cell_type": "markdown",
      "source": [
        "##If Statement"
      ],
      "metadata": {
        "id": "PjJnGGBqbpGC"
      }
    },
    {
      "cell_type": "code",
      "execution_count": null,
      "metadata": {
        "colab": {
          "base_uri": "https://localhost:8080/"
        },
        "id": "RBA2w7J9bfQu",
        "outputId": "575769da-ff1d-4baa-9e8b-1ffd3249fde4"
      },
      "outputs": [
        {
          "output_type": "stream",
          "name": "stdout",
          "text": [
            "b is greather than a\n"
          ]
        }
      ],
      "source": [
        "a=12\n",
        "b=100\n",
        "\n",
        "if b>a:\n",
        "  print(\"b is greather than a\")"
      ]
    },
    {
      "cell_type": "markdown",
      "source": [
        "##Elif Statement"
      ],
      "metadata": {
        "id": "Fd41Yxw2cV4k"
      }
    },
    {
      "cell_type": "code",
      "source": [
        "a=12\n",
        "b=100\n",
        "\n",
        "if b>a:\n",
        "  print(\"b is greater than a\")\n",
        "elif a>b:\n",
        "  print(\"a is greater than b\")"
      ],
      "metadata": {
        "colab": {
          "base_uri": "https://localhost:8080/"
        },
        "id": "Yc1N8C-ccWAv",
        "outputId": "2f29a5eb-4aa6-4f13-ff32-74f6c4027832"
      },
      "execution_count": null,
      "outputs": [
        {
          "output_type": "stream",
          "name": "stdout",
          "text": [
            "b is greater than a\n"
          ]
        }
      ]
    },
    {
      "cell_type": "markdown",
      "source": [
        "##Else Statement"
      ],
      "metadata": {
        "id": "o0LMBNr9dPPB"
      }
    },
    {
      "cell_type": "code",
      "source": [
        "a=100\n",
        "b=100\n",
        "\n",
        "if b>a:\n",
        "  print(\"b is greater than a\")\n",
        "elif a>b:\n",
        "  print(\"a is greater than b\")\n",
        "else:\n",
        "  print(\"a is equal to b\")"
      ],
      "metadata": {
        "colab": {
          "base_uri": "https://localhost:8080/"
        },
        "id": "KLbD4LsUdPUl",
        "outputId": "132355a5-0439-458b-8dbe-0d0582d42efe"
      },
      "execution_count": null,
      "outputs": [
        {
          "output_type": "stream",
          "name": "stdout",
          "text": [
            "a is equal to b\n"
          ]
        }
      ]
    },
    {
      "cell_type": "markdown",
      "source": [
        "##Short Hand If Statement\n"
      ],
      "metadata": {
        "id": "Tb6Le9DYeCOA"
      }
    },
    {
      "cell_type": "code",
      "source": [
        "a=12\n",
        "b=100\n",
        "if b>a: print(\"a is greater than b\")"
      ],
      "metadata": {
        "colab": {
          "base_uri": "https://localhost:8080/"
        },
        "id": "0ULzgoNmeCW6",
        "outputId": "37845e2f-1bb3-47a7-9edf-8c7c3d01010b"
      },
      "execution_count": null,
      "outputs": [
        {
          "output_type": "stream",
          "name": "stdout",
          "text": [
            "a is greater than b\n"
          ]
        }
      ]
    },
    {
      "cell_type": "markdown",
      "source": [
        "##Short Hand If..Else Statement"
      ],
      "metadata": {
        "id": "pX5s7C1IeSRT"
      }
    },
    {
      "cell_type": "code",
      "source": [
        "a=5\n",
        "b=10\n",
        "\n",
        "print(\"a is greater than b\") if a>b else print(\"b is greater than a\")"
      ],
      "metadata": {
        "colab": {
          "base_uri": "https://localhost:8080/"
        },
        "id": "StkI9NHBeSYA",
        "outputId": "07b51cdd-6174-415a-c19e-e5700f173f64"
      },
      "execution_count": null,
      "outputs": [
        {
          "output_type": "stream",
          "name": "stdout",
          "text": [
            "b is greater than a\n"
          ]
        }
      ]
    },
    {
      "cell_type": "markdown",
      "source": [
        "##And logic - if both statements or operands are true"
      ],
      "metadata": {
        "id": "Vc_YfLiVfeeT"
      }
    },
    {
      "cell_type": "code",
      "source": [
        "a=30\n",
        "b=40\n",
        "c=25\n",
        "\n",
        "if b>a and a>c:\n",
        "  print(\"Both conditions must be true\")"
      ],
      "metadata": {
        "colab": {
          "base_uri": "https://localhost:8080/"
        },
        "id": "Ds-RdoFUfelB",
        "outputId": "953db9cb-e555-4482-f12d-9ae7338dbb1b"
      },
      "execution_count": null,
      "outputs": [
        {
          "output_type": "stream",
          "name": "stdout",
          "text": [
            "Both conditions must be true\n"
          ]
        }
      ]
    },
    {
      "cell_type": "markdown",
      "source": [
        "##Or logic - if one of the operands is True"
      ],
      "metadata": {
        "id": "YzwoByvNfe7G"
      }
    },
    {
      "cell_type": "code",
      "source": [
        "if b>a and a>c:\n",
        "  print(\"If one of the two operands is True\")"
      ],
      "metadata": {
        "colab": {
          "base_uri": "https://localhost:8080/"
        },
        "id": "53swqKbBffCT",
        "outputId": "937e391e-a70b-43cd-b37f-9ffd3eb5374e"
      },
      "execution_count": null,
      "outputs": [
        {
          "output_type": "stream",
          "name": "stdout",
          "text": [
            "If one of the two operands is True\n"
          ]
        }
      ]
    },
    {
      "cell_type": "markdown",
      "source": [
        "##Nested If"
      ],
      "metadata": {
        "id": "ohRm7zLkg__i"
      }
    },
    {
      "cell_type": "code",
      "source": [
        "x=int(input())\n",
        "\n",
        "if x>10:\n",
        "  print(\"x is above 10\")\n",
        "else:\n",
        "    print(\"x is not above 10\")\n",
        "if x>20:\n",
        "  print(\"x is above 20\")\n",
        "else:\n",
        "    print(\"x is not above 20\")\n",
        "if x>30:\n",
        "  print(\"x is above 30\")\n",
        "else:\n",
        "    print(\"x is not above 30\")\n",
        "if x>40:\n",
        "  print(\"x is above 40\")\n",
        "else:\n",
        "    print(\"x is not above 40\")\n"
      ],
      "metadata": {
        "colab": {
          "base_uri": "https://localhost:8080/"
        },
        "id": "6gRGClNBida0",
        "outputId": "99dd9e6a-c2b0-4b21-b1ba-f561efcde4e4"
      },
      "execution_count": null,
      "outputs": [
        {
          "output_type": "stream",
          "name": "stdout",
          "text": [
            "24\n",
            "x is above 10\n",
            "x is above 20\n",
            "x is not above 30\n",
            "x is not above 40\n"
          ]
        }
      ]
    },
    {
      "cell_type": "markdown",
      "source": [
        "##Application 1 - Write a program that determines if the input age is qualified to vote or not. The qualifying age is 18 years old and above."
      ],
      "metadata": {
        "id": "ddQ12UITij7l"
      }
    },
    {
      "cell_type": "code",
      "source": [
        "x = int(input())\n",
        "if x>17:\n",
        "  print(\"You are qualified to vote\")\n",
        "else:\n",
        "  print(\"You are not qualified to vote\")\n"
      ],
      "metadata": {
        "colab": {
          "base_uri": "https://localhost:8080/"
        },
        "id": "23wJNmJtilVZ",
        "outputId": "d53f19f8-9f7b-4ba2-c686-7d5e027702cd"
      },
      "execution_count": 60,
      "outputs": [
        {
          "output_type": "stream",
          "name": "stdout",
          "text": [
            "17\n",
            "You are not qualified to vote\n"
          ]
        }
      ]
    },
    {
      "cell_type": "markdown",
      "source": [
        "##Application 2 - Write a program that determines if the input number is POSITIVE, NEGATIVE, or Zero."
      ],
      "metadata": {
        "id": "pEPd3U5Xjrm8"
      }
    },
    {
      "cell_type": "code",
      "source": [
        "x = int(input())\n",
        "\n",
        "if x>0:\n",
        "  print(\"POSITIVE\")\n",
        "if x==0:\n",
        "  print(\"Zero\")\n",
        "if x<0:\n",
        "  print(\"NEGATIVE\")"
      ],
      "metadata": {
        "colab": {
          "base_uri": "https://localhost:8080/"
        },
        "id": "63evKhQgjr5V",
        "outputId": "efc02088-22ff-4baa-b884-42f4d8446a01"
      },
      "execution_count": null,
      "outputs": [
        {
          "output_type": "stream",
          "name": "stdout",
          "text": [
            "699999\n",
            "POSITIVE\n"
          ]
        }
      ]
    },
    {
      "cell_type": "markdown",
      "source": [
        "##For Loop Statement\n"
      ],
      "metadata": {
        "id": "IX-VpN_0j6kz"
      }
    },
    {
      "cell_type": "code",
      "source": [
        "week = [\"Sunday\", \"Monday\", \"Tuesday\", \"Wednesday\", \"Thursday\", \"Friday\", \"Saturday\"]\n",
        "for x in week:\n",
        "  print(x)"
      ],
      "metadata": {
        "colab": {
          "base_uri": "https://localhost:8080/"
        },
        "id": "d5p2h1F6kTHH",
        "outputId": "97d9c9c4-f8cf-4f45-c02c-1835d92df989"
      },
      "execution_count": null,
      "outputs": [
        {
          "output_type": "stream",
          "name": "stdout",
          "text": [
            "Sunday\n",
            "Monday\n",
            "Tuesday\n",
            "Wednesday\n",
            "Thursday\n",
            "Friday\n",
            "Saturday\n"
          ]
        }
      ]
    },
    {
      "cell_type": "markdown",
      "source": [
        "##The break statement"
      ],
      "metadata": {
        "id": "G0ZHYUmGlMjZ"
      }
    },
    {
      "cell_type": "code",
      "source": [
        "for x in week:\n",
        "  print(x)\n",
        "\n",
        "  if x==\"Thursday\":\n",
        "    break"
      ],
      "metadata": {
        "colab": {
          "base_uri": "https://localhost:8080/"
        },
        "id": "tq6fdUwulMrk",
        "outputId": "ac59a9cb-7280-4dce-c357-d1e1db8a6770"
      },
      "execution_count": null,
      "outputs": [
        {
          "output_type": "stream",
          "name": "stdout",
          "text": [
            "Sunday\n",
            "Monday\n",
            "Tuesday\n",
            "Wednesday\n",
            "Thursday\n"
          ]
        }
      ]
    },
    {
      "cell_type": "markdown",
      "source": [
        "##While Loop"
      ],
      "metadata": {
        "id": "eNw9I8BSlXDr"
      }
    },
    {
      "cell_type": "code",
      "source": [
        "y = 3\n",
        "\n",
        "while y<6:\n",
        "  print(y)\n",
        "  if y == 3:\n",
        "    break\n",
        "y+=1"
      ],
      "metadata": {
        "colab": {
          "base_uri": "https://localhost:8080/"
        },
        "id": "pv4cLsBInWkM",
        "outputId": "c2afa1a1-e41b-4555-ff1c-95e0dd4c3e76"
      },
      "execution_count": null,
      "outputs": [
        {
          "output_type": "stream",
          "name": "stdout",
          "text": [
            "3\n"
          ]
        }
      ]
    }
  ]
}